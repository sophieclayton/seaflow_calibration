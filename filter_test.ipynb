{
 "cells": [
  {
   "cell_type": "code",
   "execution_count": null,
   "metadata": {
    "collapsed": true
   },
   "outputs": [],
   "source": [
    "% matplotlib inline\n",
    "\n",
    "import numpy as np\n",
    "import pandas as pd\n",
    "import seaflowpy as sfp\n",
    "import mpld3 \n",
    "\n",
    "from matplotlib import path\n",
    "\n",
    "import glob\n",
    "import matplotlib.pyplot as plt\n",
    "\n",
    "from matplotlib import rcParams\n",
    "rcParams.update({'figure.autolayout': True})\n",
    "rcParams.update({'font.family': 'serif'})\n",
    "rcParams.update({'font.serif': 'Times New Roman'})"
   ]
  },
  {
   "cell_type": "code",
   "execution_count": null,
   "metadata": {
    "collapsed": true
   },
   "outputs": [],
   "source": [
    "def get_filter_line(inst, bead_coords):\n",
    "    \n",
    "    # slopes to use for calibration\n",
    "    slopes = pd.DataFrame()\n",
    "    intercept = pd.DataFrame()\n",
    "    bead_coord = pd.DataFrame()\n",
    "    \n",
    "       \n",
    "    bead_coord['fsc_small'] = bead_coords.fsc_small[(bead_coords['inst']==inst) & (bead_coords['regime']==regime_out)]\n",
    "    bead_coord['D2'] = bead_coords.D2[(bead_coords['inst']==inst) & (bead_coords['regime']==regime_out)]\n",
    "    #bead_coord['D1'] = bead_coords.D1[(bead_coords['inst']==inst) & (bead_coords['regime']==regime)]\n",
    "    \n",
    "    slopes['slope_S'] = calib.slope_S[(calib['inst']==inst) & (calib['regime']==regime_in)]\n",
    "    slopes['slope_B'] = calib.slope_B[(calib['inst']==inst) & (calib['regime']==regime_in)]\n",
    "    \n",
    "    \n",
    "    # function to find the intercept given the coordinates of the 1um beads\n",
    "    intercept['S'] = bead_coord['D2'].values - slopes['slope_S'].values*bead_coord['fsc_small']\n",
    "    intercept['B'] = bead_coord['D2'].values - slopes['slope_B'].values*bead_coord['fsc_small']\n",
    "\n",
    "    return intercept, slopes\n",
    "\n",
    "def filter_evt():\n",
    "    # http://stackoverflow.com/questions/31542843/inpolygon-for-python-examples-of-matplotlib-path-path-contains-points-method\n",
    "    # define the path using the points from get_filter_line\n",
    "    p = path.Path([(,), (,), (,)])\n",
    "    opp = np.where(p.contains_points(evt))\n",
    "    \n",
    "    return opp\n",
    "    "
   ]
  },
  {
   "cell_type": "code",
   "execution_count": null,
   "metadata": {
    "collapsed": true
   },
   "outputs": [],
   "source": []
  }
 ],
 "metadata": {
  "kernelspec": {
   "display_name": "Python 2",
   "language": "python",
   "name": "python2"
  },
  "language_info": {
   "codemirror_mode": {
    "name": "ipython",
    "version": 2
   },
   "file_extension": ".py",
   "mimetype": "text/x-python",
   "name": "python",
   "nbconvert_exporter": "python",
   "pygments_lexer": "ipython2",
   "version": "2.7.11"
  }
 },
 "nbformat": 4,
 "nbformat_minor": 0
}
