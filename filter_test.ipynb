{
 "cells": [
  {
   "cell_type": "code",
   "execution_count": null,
   "metadata": {
    "collapsed": true
   },
   "outputs": [],
   "source": [
    "% matplotlib inline\n",
    "\n",
    "import numpy as np\n",
    "import pandas as pd\n",
    "import seaflowpy as sfp\n",
    "import mpld3 \n",
    "\n",
    "from matplotlib import path\n",
    "\n",
    "import glob\n",
    "import matplotlib.pyplot as plt\n",
    "\n",
    "from matplotlib import rcParams\n",
    "rcParams.update({'figure.autolayout': True})\n",
    "rcParams.update({'font.family': 'serif'})\n",
    "rcParams.update({'font.serif': 'Times New Roman'})"
   ]
  },
  {
   "cell_type": "code",
   "execution_count": null,
   "metadata": {
    "collapsed": true
   },
   "outputs": [],
   "source": [
    "def get_filter_line(inst, bead_coords):\n",
    "    \n",
    "    # slopes to use for calibration\n",
    "    calib = pd.DataFrame()\n",
    "\n",
    "    calib['inst'] = [740, 740, 751, 751, 989, 989]\n",
    "    calib['regime'] = ['coastal', 'oligo', 'coastal', 'oligo', 'coastal', 'oligo']\n",
    "    calib['slope_S'] = [0.62, 0.89, 0.63, 0.62, 0.87, 0.91]\n",
    "    calib['slope_B'] = [2.17, 1.95, 2.3, 2.59, 1.64, 1.75]\n",
    "    \n",
    "    m_S = np.mean(calib.slope_S[(calib['inst']==inst)])\n",
    "    m_B = np.mean(calib.slope_B[(calib['inst']==inst)])\n",
    "\n",
    "    bead_x = bead_coords(0)\n",
    "    bead_y = bead_coords(1)\n",
    "    \n",
    "    max_x = 64000.\n",
    "    \n",
    "    intercept_S = bead_y - m_S*bead_x\n",
    "    c_B = bead_y - m_B*bead_x\n",
    "    intercept_B = m_B*max_x + c_B\n",
    "    \n",
    "    # create an array with the coordinates for each point in the polygon\n",
    "    filter_polygon = [(0, 0), (0, intercept_S), (bead_x, bead_y), (max_x,intercept_B), (max_x, 0), (0,0)]\n",
    "\n",
    "    return filter_polygon\n",
    "\n",
    "def filter_evt(filter_polygon):\n",
    "    # http://stackoverflow.com/questions/31542843/inpolygon-for-python-examples-of-matplotlib-path-path-contains-points-method\n",
    "    # define the path using the points from get_filter_line\n",
    "    p = path.Path(filter_polygon)\n",
    "    opp = np.where(p.contains_points(evt))\n",
    "    \n",
    "    return opp\n",
    "    "
   ]
  },
  {
   "cell_type": "code",
   "execution_count": null,
   "metadata": {
    "collapsed": true
   },
   "outputs": [],
   "source": []
  }
 ],
 "metadata": {
  "kernelspec": {
   "display_name": "Python 2",
   "language": "python",
   "name": "python2"
  },
  "language_info": {
   "codemirror_mode": {
    "name": "ipython",
    "version": 2
   },
   "file_extension": ".py",
   "mimetype": "text/x-python",
   "name": "python",
   "nbconvert_exporter": "python",
   "pygments_lexer": "ipython2",
   "version": "2.7.11"
  }
 },
 "nbformat": 4,
 "nbformat_minor": 0
}
